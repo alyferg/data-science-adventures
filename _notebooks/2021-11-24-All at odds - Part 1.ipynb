{
 "cells": [
  {
   "cell_type": "markdown",
   "id": "07645b8b",
   "metadata": {},
   "source": [
    "# All at odds - part 1"
   ]
  },
  {
   "cell_type": "markdown",
   "id": "847c524d",
   "metadata": {},
   "source": [
    "It won't come as a shock to anyone that this is not the only blog on this particular subject. There are many blogs YouTube channels, etc. on the subject of data Science and specifically data Science in Sport and Sports betting. It is interesting when looking at these other resources how different people take different routes, one assumes or at least talks, with the same destination in mind. To date, I have not seen another blog that uses the same starting point as I am about to, though there is a very good chance that there is one out there somewhere."
   ]
  },
  {
   "cell_type": "markdown",
   "id": "b2cc560c",
   "metadata": {},
   "source": [
    "Historically, the only place to go to put a bet on sports was a bookmaker, in fact until the late 1990s that would have meant visiting a shop for most people. At a bookmaker, you could place a back bet on a particular outcome and that was it. Now, when you visit a bookmaker you have a huge range of different options available to you. Especially in sports like football all where you can bet on everything from the outcome of the match to the number of corners a particular side will have. That is not the only thing that changed in Sports betting because around 2000 betting exchanges were introduced. Exchanges are effectively peer-to-peer betting services where the exchange provides the infrastructure to allow people to exchange bets. Your exchange rate could be against another individual, a syndicate, an organisation, or even a bookmaker, you just don't know as you'll never see the other side of the bet. The other thing that changed with the advent of betting exchanges was that you can now bet on something not happening, i.e. you can bet against a particular team winning rather than just backing them to win."
   ]
  },
  {
   "cell_type": "markdown",
   "id": "9bf543db",
   "metadata": {},
   "source": [
    "My journey into the analysis of Sports Betting will begin with looking at the accuracy of the odds at the beginning of a particular event. The odds offered by individual bookmakers tend to match closely those offered by other bookmakers and those offered at the exchanges. This needs to be the case otherwise there would be the potential for bettors to exploit differences in prices between different bookmakers and exchanges. That technique is known as arbitrage betting. The price that is available just before the commencement of a particular event it's probably as close as the real probability of a particular outcome for that event, for two very good reasons. Where the price is being set by pressure from an exchange, then we have the \"wisdom of the crowd\" coming into play. There could be thousands of individuals looking for value that will drive the price to a balance point of maximum value. The second reason, where the price is being driven by pressure from bookmakers then their experience will come into play. This knowledge over many many years, plus, no doubt, the data scientists that they employ to calculate real probability, leads to the price at that particular point in time will be as close to real as possible."
   ]
  },
  {
   "cell_type": "markdown",
   "id": "0010381f",
   "metadata": {},
   "source": [
    "Therefore, my opening question is . . ."
   ]
  },
  {
   "cell_type": "markdown",
   "id": "aac4151c",
   "metadata": {},
   "source": [
    "# How accurate are the starting odds set for a market in a particular event?"
   ]
  },
  {
   "cell_type": "markdown",
   "id": "2b84a395",
   "metadata": {},
   "source": [
    "I will be using the starting prices from a bookmaker for this particular exercise, but that's only due to the availability of the data and is not a reflection of the perceived accuracy of that data. Should data from betting exchanges for the same event start to be collected then there will be very little difference between not and the data we have used. The first analysis will be to look at match odds data, i.e. Home win away win what draws in Premier League football matches between 2010 and 2021."
   ]
  },
  {
   "cell_type": "markdown",
   "id": "3017231b",
   "metadata": {},
   "source": [
    "The analysis is undertaken with the data used in the previous set downloaded from \n",
    "\n",
    "**[FootballData.co.uk](https://www.football-data.co.uk/data.php)**  \n",
    "\n",
    "First with the English Premiership between 2010 and 2021, then we can look at other leagues."
   ]
  },
  {
   "cell_type": "code",
   "execution_count": 15,
   "id": "dceff56e",
   "metadata": {},
   "outputs": [
    {
     "data": {
      "text/html": [
       "<div>\n",
       "<style scoped>\n",
       "    .dataframe tbody tr th:only-of-type {\n",
       "        vertical-align: middle;\n",
       "    }\n",
       "\n",
       "    .dataframe tbody tr th {\n",
       "        vertical-align: top;\n",
       "    }\n",
       "\n",
       "    .dataframe thead th {\n",
       "        text-align: right;\n",
       "    }\n",
       "</style>\n",
       "<table border=\"1\" class=\"dataframe\">\n",
       "  <thead>\n",
       "    <tr style=\"text-align: right;\">\n",
       "      <th></th>\n",
       "      <th>Div</th>\n",
       "      <th>Date</th>\n",
       "      <th>HomeTeam</th>\n",
       "      <th>AwayTeam</th>\n",
       "      <th>FTHG</th>\n",
       "      <th>FTAG</th>\n",
       "      <th>FTR</th>\n",
       "      <th>HTHG</th>\n",
       "      <th>HTAG</th>\n",
       "      <th>HTR</th>\n",
       "      <th>...</th>\n",
       "      <th>AvgC&lt;2.5</th>\n",
       "      <th>AHCh</th>\n",
       "      <th>B365CAHH</th>\n",
       "      <th>B365CAHA</th>\n",
       "      <th>PCAHH</th>\n",
       "      <th>PCAHA</th>\n",
       "      <th>MaxCAHH</th>\n",
       "      <th>MaxCAHA</th>\n",
       "      <th>AvgCAHH</th>\n",
       "      <th>AvgCAHA</th>\n",
       "    </tr>\n",
       "  </thead>\n",
       "  <tbody>\n",
       "    <tr>\n",
       "      <th>0</th>\n",
       "      <td>E0</td>\n",
       "      <td>14/08/10</td>\n",
       "      <td>Aston Villa</td>\n",
       "      <td>West Ham</td>\n",
       "      <td>3.0</td>\n",
       "      <td>0.0</td>\n",
       "      <td>H</td>\n",
       "      <td>2.0</td>\n",
       "      <td>0.0</td>\n",
       "      <td>H</td>\n",
       "      <td>...</td>\n",
       "      <td>NaN</td>\n",
       "      <td>NaN</td>\n",
       "      <td>NaN</td>\n",
       "      <td>NaN</td>\n",
       "      <td>NaN</td>\n",
       "      <td>NaN</td>\n",
       "      <td>NaN</td>\n",
       "      <td>NaN</td>\n",
       "      <td>NaN</td>\n",
       "      <td>NaN</td>\n",
       "    </tr>\n",
       "    <tr>\n",
       "      <th>1</th>\n",
       "      <td>E0</td>\n",
       "      <td>14/08/10</td>\n",
       "      <td>Blackburn</td>\n",
       "      <td>Everton</td>\n",
       "      <td>1.0</td>\n",
       "      <td>0.0</td>\n",
       "      <td>H</td>\n",
       "      <td>1.0</td>\n",
       "      <td>0.0</td>\n",
       "      <td>H</td>\n",
       "      <td>...</td>\n",
       "      <td>NaN</td>\n",
       "      <td>NaN</td>\n",
       "      <td>NaN</td>\n",
       "      <td>NaN</td>\n",
       "      <td>NaN</td>\n",
       "      <td>NaN</td>\n",
       "      <td>NaN</td>\n",
       "      <td>NaN</td>\n",
       "      <td>NaN</td>\n",
       "      <td>NaN</td>\n",
       "    </tr>\n",
       "    <tr>\n",
       "      <th>2</th>\n",
       "      <td>E0</td>\n",
       "      <td>14/08/10</td>\n",
       "      <td>Bolton</td>\n",
       "      <td>Fulham</td>\n",
       "      <td>0.0</td>\n",
       "      <td>0.0</td>\n",
       "      <td>D</td>\n",
       "      <td>0.0</td>\n",
       "      <td>0.0</td>\n",
       "      <td>D</td>\n",
       "      <td>...</td>\n",
       "      <td>NaN</td>\n",
       "      <td>NaN</td>\n",
       "      <td>NaN</td>\n",
       "      <td>NaN</td>\n",
       "      <td>NaN</td>\n",
       "      <td>NaN</td>\n",
       "      <td>NaN</td>\n",
       "      <td>NaN</td>\n",
       "      <td>NaN</td>\n",
       "      <td>NaN</td>\n",
       "    </tr>\n",
       "    <tr>\n",
       "      <th>3</th>\n",
       "      <td>E0</td>\n",
       "      <td>14/08/10</td>\n",
       "      <td>Chelsea</td>\n",
       "      <td>West Brom</td>\n",
       "      <td>6.0</td>\n",
       "      <td>0.0</td>\n",
       "      <td>H</td>\n",
       "      <td>2.0</td>\n",
       "      <td>0.0</td>\n",
       "      <td>H</td>\n",
       "      <td>...</td>\n",
       "      <td>NaN</td>\n",
       "      <td>NaN</td>\n",
       "      <td>NaN</td>\n",
       "      <td>NaN</td>\n",
       "      <td>NaN</td>\n",
       "      <td>NaN</td>\n",
       "      <td>NaN</td>\n",
       "      <td>NaN</td>\n",
       "      <td>NaN</td>\n",
       "      <td>NaN</td>\n",
       "    </tr>\n",
       "    <tr>\n",
       "      <th>4</th>\n",
       "      <td>E0</td>\n",
       "      <td>14/08/10</td>\n",
       "      <td>Sunderland</td>\n",
       "      <td>Birmingham</td>\n",
       "      <td>2.0</td>\n",
       "      <td>2.0</td>\n",
       "      <td>D</td>\n",
       "      <td>1.0</td>\n",
       "      <td>0.0</td>\n",
       "      <td>H</td>\n",
       "      <td>...</td>\n",
       "      <td>NaN</td>\n",
       "      <td>NaN</td>\n",
       "      <td>NaN</td>\n",
       "      <td>NaN</td>\n",
       "      <td>NaN</td>\n",
       "      <td>NaN</td>\n",
       "      <td>NaN</td>\n",
       "      <td>NaN</td>\n",
       "      <td>NaN</td>\n",
       "      <td>NaN</td>\n",
       "    </tr>\n",
       "    <tr>\n",
       "      <th>...</th>\n",
       "      <td>...</td>\n",
       "      <td>...</td>\n",
       "      <td>...</td>\n",
       "      <td>...</td>\n",
       "      <td>...</td>\n",
       "      <td>...</td>\n",
       "      <td>...</td>\n",
       "      <td>...</td>\n",
       "      <td>...</td>\n",
       "      <td>...</td>\n",
       "      <td>...</td>\n",
       "      <td>...</td>\n",
       "      <td>...</td>\n",
       "      <td>...</td>\n",
       "      <td>...</td>\n",
       "      <td>...</td>\n",
       "      <td>...</td>\n",
       "      <td>...</td>\n",
       "      <td>...</td>\n",
       "      <td>...</td>\n",
       "      <td>...</td>\n",
       "    </tr>\n",
       "    <tr>\n",
       "      <th>4418</th>\n",
       "      <td>E0</td>\n",
       "      <td>23/05/2021</td>\n",
       "      <td>Liverpool</td>\n",
       "      <td>Crystal Palace</td>\n",
       "      <td>2.0</td>\n",
       "      <td>0.0</td>\n",
       "      <td>H</td>\n",
       "      <td>1.0</td>\n",
       "      <td>0.0</td>\n",
       "      <td>H</td>\n",
       "      <td>...</td>\n",
       "      <td>3.49</td>\n",
       "      <td>-2.25</td>\n",
       "      <td>1.86</td>\n",
       "      <td>2.04</td>\n",
       "      <td>1.88</td>\n",
       "      <td>2.03</td>\n",
       "      <td>1.98</td>\n",
       "      <td>2.14</td>\n",
       "      <td>1.88</td>\n",
       "      <td>2.00</td>\n",
       "    </tr>\n",
       "    <tr>\n",
       "      <th>4419</th>\n",
       "      <td>E0</td>\n",
       "      <td>23/05/2021</td>\n",
       "      <td>Man City</td>\n",
       "      <td>Everton</td>\n",
       "      <td>5.0</td>\n",
       "      <td>0.0</td>\n",
       "      <td>H</td>\n",
       "      <td>2.0</td>\n",
       "      <td>0.0</td>\n",
       "      <td>H</td>\n",
       "      <td>...</td>\n",
       "      <td>2.77</td>\n",
       "      <td>-1.75</td>\n",
       "      <td>2.01</td>\n",
       "      <td>1.89</td>\n",
       "      <td>1.99</td>\n",
       "      <td>1.89</td>\n",
       "      <td>2.20</td>\n",
       "      <td>2.00</td>\n",
       "      <td>2.03</td>\n",
       "      <td>1.85</td>\n",
       "    </tr>\n",
       "    <tr>\n",
       "      <th>4420</th>\n",
       "      <td>E0</td>\n",
       "      <td>23/05/2021</td>\n",
       "      <td>Sheffield United</td>\n",
       "      <td>Burnley</td>\n",
       "      <td>1.0</td>\n",
       "      <td>0.0</td>\n",
       "      <td>H</td>\n",
       "      <td>1.0</td>\n",
       "      <td>0.0</td>\n",
       "      <td>H</td>\n",
       "      <td>...</td>\n",
       "      <td>2.05</td>\n",
       "      <td>0.00</td>\n",
       "      <td>2.04</td>\n",
       "      <td>1.86</td>\n",
       "      <td>2.05</td>\n",
       "      <td>1.86</td>\n",
       "      <td>2.17</td>\n",
       "      <td>1.90</td>\n",
       "      <td>2.03</td>\n",
       "      <td>1.84</td>\n",
       "    </tr>\n",
       "    <tr>\n",
       "      <th>4421</th>\n",
       "      <td>E0</td>\n",
       "      <td>23/05/2021</td>\n",
       "      <td>West Ham</td>\n",
       "      <td>Southampton</td>\n",
       "      <td>3.0</td>\n",
       "      <td>0.0</td>\n",
       "      <td>H</td>\n",
       "      <td>2.0</td>\n",
       "      <td>0.0</td>\n",
       "      <td>H</td>\n",
       "      <td>...</td>\n",
       "      <td>2.14</td>\n",
       "      <td>-0.75</td>\n",
       "      <td>2.00</td>\n",
       "      <td>1.90</td>\n",
       "      <td>2.02</td>\n",
       "      <td>1.91</td>\n",
       "      <td>2.06</td>\n",
       "      <td>2.01</td>\n",
       "      <td>1.99</td>\n",
       "      <td>1.89</td>\n",
       "    </tr>\n",
       "    <tr>\n",
       "      <th>4422</th>\n",
       "      <td>E0</td>\n",
       "      <td>23/05/2021</td>\n",
       "      <td>Wolves</td>\n",
       "      <td>Man United</td>\n",
       "      <td>1.0</td>\n",
       "      <td>2.0</td>\n",
       "      <td>A</td>\n",
       "      <td>1.0</td>\n",
       "      <td>2.0</td>\n",
       "      <td>A</td>\n",
       "      <td>...</td>\n",
       "      <td>1.62</td>\n",
       "      <td>-0.25</td>\n",
       "      <td>2.04</td>\n",
       "      <td>1.86</td>\n",
       "      <td>2.10</td>\n",
       "      <td>1.84</td>\n",
       "      <td>2.10</td>\n",
       "      <td>1.94</td>\n",
       "      <td>2.00</td>\n",
       "      <td>1.88</td>\n",
       "    </tr>\n",
       "  </tbody>\n",
       "</table>\n",
       "<p>4423 rows × 139 columns</p>\n",
       "</div>"
      ],
      "text/plain": [
       "     Div        Date          HomeTeam        AwayTeam  FTHG  FTAG FTR  HTHG  \\\n",
       "0     E0    14/08/10       Aston Villa        West Ham   3.0   0.0   H   2.0   \n",
       "1     E0    14/08/10         Blackburn         Everton   1.0   0.0   H   1.0   \n",
       "2     E0    14/08/10            Bolton          Fulham   0.0   0.0   D   0.0   \n",
       "3     E0    14/08/10           Chelsea       West Brom   6.0   0.0   H   2.0   \n",
       "4     E0    14/08/10        Sunderland      Birmingham   2.0   2.0   D   1.0   \n",
       "...   ..         ...               ...             ...   ...   ...  ..   ...   \n",
       "4418  E0  23/05/2021         Liverpool  Crystal Palace   2.0   0.0   H   1.0   \n",
       "4419  E0  23/05/2021          Man City         Everton   5.0   0.0   H   2.0   \n",
       "4420  E0  23/05/2021  Sheffield United         Burnley   1.0   0.0   H   1.0   \n",
       "4421  E0  23/05/2021          West Ham     Southampton   3.0   0.0   H   2.0   \n",
       "4422  E0  23/05/2021            Wolves      Man United   1.0   2.0   A   1.0   \n",
       "\n",
       "      HTAG HTR  ... AvgC<2.5  AHCh  B365CAHH  B365CAHA  PCAHH  PCAHA  MaxCAHH  \\\n",
       "0      0.0   H  ...      NaN   NaN       NaN       NaN    NaN    NaN      NaN   \n",
       "1      0.0   H  ...      NaN   NaN       NaN       NaN    NaN    NaN      NaN   \n",
       "2      0.0   D  ...      NaN   NaN       NaN       NaN    NaN    NaN      NaN   \n",
       "3      0.0   H  ...      NaN   NaN       NaN       NaN    NaN    NaN      NaN   \n",
       "4      0.0   H  ...      NaN   NaN       NaN       NaN    NaN    NaN      NaN   \n",
       "...    ...  ..  ...      ...   ...       ...       ...    ...    ...      ...   \n",
       "4418   0.0   H  ...     3.49 -2.25      1.86      2.04   1.88   2.03     1.98   \n",
       "4419   0.0   H  ...     2.77 -1.75      2.01      1.89   1.99   1.89     2.20   \n",
       "4420   0.0   H  ...     2.05  0.00      2.04      1.86   2.05   1.86     2.17   \n",
       "4421   0.0   H  ...     2.14 -0.75      2.00      1.90   2.02   1.91     2.06   \n",
       "4422   2.0   A  ...     1.62 -0.25      2.04      1.86   2.10   1.84     2.10   \n",
       "\n",
       "      MaxCAHA  AvgCAHH  AvgCAHA  \n",
       "0         NaN      NaN      NaN  \n",
       "1         NaN      NaN      NaN  \n",
       "2         NaN      NaN      NaN  \n",
       "3         NaN      NaN      NaN  \n",
       "4         NaN      NaN      NaN  \n",
       "...       ...      ...      ...  \n",
       "4418     2.14     1.88     2.00  \n",
       "4419     2.00     2.03     1.85  \n",
       "4420     1.90     2.03     1.84  \n",
       "4421     2.01     1.99     1.89  \n",
       "4422     1.94     2.00     1.88  \n",
       "\n",
       "[4423 rows x 139 columns]"
      ]
     },
     "execution_count": 15,
     "metadata": {},
     "output_type": "execute_result"
    }
   ],
   "source": [
    "\n",
    "\n",
    "# load dependencies and data\n",
    "import pandas as pd\n",
    "import numpy as np\n",
    "import glob\n",
    "import matplotlib.pyplot as plt\n",
    "import seaborn as sns\n",
    "from pandas.plotting import scatter_matrix\n",
    "\n",
    "#load all csv files and append to a single dataframe\n",
    "path = '../../../GitHub/England-EPL' \n",
    "all_files = glob.glob(path + \"/*.csv\")\n",
    "\n",
    "li = []\n",
    "\n",
    "for filename in all_files:\n",
    "    df = pd.read_csv(filename, index_col=None, header=0)\n",
    "    li.append(df)\n",
    "\n",
    "footdata = pd.concat(li, axis=0, ignore_index=True)\n",
    "\n",
    "footdata.rename(columns={'B365H': 'Home odds',\n",
    "                            'B365A': 'Away odds',\n",
    "                              'B365D': 'Draw odds'},\n",
    "                     inplace=True, errors='raise')\n",
    "\n",
    "#check that the data is loaded and see how it looks\n",
    "footdata"
   ]
  },
  {
   "cell_type": "code",
   "execution_count": 16,
   "id": "0ac78146",
   "metadata": {},
   "outputs": [
    {
     "data": {
      "text/html": [
       "<div>\n",
       "<style scoped>\n",
       "    .dataframe tbody tr th:only-of-type {\n",
       "        vertical-align: middle;\n",
       "    }\n",
       "\n",
       "    .dataframe tbody tr th {\n",
       "        vertical-align: top;\n",
       "    }\n",
       "\n",
       "    .dataframe thead th {\n",
       "        text-align: right;\n",
       "    }\n",
       "</style>\n",
       "<table border=\"1\" class=\"dataframe\">\n",
       "  <thead>\n",
       "    <tr style=\"text-align: right;\">\n",
       "      <th></th>\n",
       "      <th>FTR</th>\n",
       "      <th>Home odds</th>\n",
       "      <th>Away odds</th>\n",
       "      <th>Draw odds</th>\n",
       "    </tr>\n",
       "  </thead>\n",
       "  <tbody>\n",
       "    <tr>\n",
       "      <th>0</th>\n",
       "      <td>H</td>\n",
       "      <td>2.00</td>\n",
       "      <td>4.0</td>\n",
       "      <td>3.30</td>\n",
       "    </tr>\n",
       "    <tr>\n",
       "      <th>1</th>\n",
       "      <td>H</td>\n",
       "      <td>2.88</td>\n",
       "      <td>2.5</td>\n",
       "      <td>3.25</td>\n",
       "    </tr>\n",
       "    <tr>\n",
       "      <th>2</th>\n",
       "      <td>D</td>\n",
       "      <td>2.20</td>\n",
       "      <td>3.4</td>\n",
       "      <td>3.30</td>\n",
       "    </tr>\n",
       "    <tr>\n",
       "      <th>3</th>\n",
       "      <td>H</td>\n",
       "      <td>1.17</td>\n",
       "      <td>17.0</td>\n",
       "      <td>7.00</td>\n",
       "    </tr>\n",
       "    <tr>\n",
       "      <th>4</th>\n",
       "      <td>D</td>\n",
       "      <td>2.10</td>\n",
       "      <td>3.6</td>\n",
       "      <td>3.30</td>\n",
       "    </tr>\n",
       "    <tr>\n",
       "      <th>...</th>\n",
       "      <td>...</td>\n",
       "      <td>...</td>\n",
       "      <td>...</td>\n",
       "      <td>...</td>\n",
       "    </tr>\n",
       "    <tr>\n",
       "      <th>4418</th>\n",
       "      <td>H</td>\n",
       "      <td>1.14</td>\n",
       "      <td>15.0</td>\n",
       "      <td>8.50</td>\n",
       "    </tr>\n",
       "    <tr>\n",
       "      <th>4419</th>\n",
       "      <td>H</td>\n",
       "      <td>1.44</td>\n",
       "      <td>6.5</td>\n",
       "      <td>5.00</td>\n",
       "    </tr>\n",
       "    <tr>\n",
       "      <th>4420</th>\n",
       "      <td>H</td>\n",
       "      <td>2.80</td>\n",
       "      <td>2.4</td>\n",
       "      <td>3.60</td>\n",
       "    </tr>\n",
       "    <tr>\n",
       "      <th>4421</th>\n",
       "      <td>H</td>\n",
       "      <td>1.65</td>\n",
       "      <td>5.0</td>\n",
       "      <td>4.00</td>\n",
       "    </tr>\n",
       "    <tr>\n",
       "      <th>4422</th>\n",
       "      <td>A</td>\n",
       "      <td>2.50</td>\n",
       "      <td>2.7</td>\n",
       "      <td>3.50</td>\n",
       "    </tr>\n",
       "  </tbody>\n",
       "</table>\n",
       "<p>4423 rows × 4 columns</p>\n",
       "</div>"
      ],
      "text/plain": [
       "     FTR  Home odds  Away odds  Draw odds\n",
       "0      H       2.00        4.0       3.30\n",
       "1      H       2.88        2.5       3.25\n",
       "2      D       2.20        3.4       3.30\n",
       "3      H       1.17       17.0       7.00\n",
       "4      D       2.10        3.6       3.30\n",
       "...   ..        ...        ...        ...\n",
       "4418   H       1.14       15.0       8.50\n",
       "4419   H       1.44        6.5       5.00\n",
       "4420   H       2.80        2.4       3.60\n",
       "4421   H       1.65        5.0       4.00\n",
       "4422   A       2.50        2.7       3.50\n",
       "\n",
       "[4423 rows x 4 columns]"
      ]
     },
     "execution_count": 16,
     "metadata": {},
     "output_type": "execute_result"
    }
   ],
   "source": [
    "\n",
    "\n",
    "# to make the dataframe more manageable and readable let's select only the columns we want to analyse\n",
    "\n",
    "footdata_odds = footdata[['FTR','Home odds','Away odds','Draw odds']]\n",
    "\n",
    "footdata_odds"
   ]
  },
  {
   "cell_type": "code",
   "execution_count": 17,
   "id": "aaffdebf",
   "metadata": {},
   "outputs": [
    {
     "data": {
      "text/plain": [
       "FTR          1\n",
       "Home odds    1\n",
       "Away odds    1\n",
       "Draw odds    1\n",
       "dtype: int64"
      ]
     },
     "execution_count": 17,
     "metadata": {},
     "output_type": "execute_result"
    }
   ],
   "source": [
    "\n",
    "\n",
    "# there are some NaN values in the dataframe. Here are the counts per column\n",
    "\n",
    "footdata_odds.isna().sum()\n",
    "\n"
   ]
  },
  {
   "cell_type": "markdown",
   "id": "c7b23035",
   "metadata": {},
   "source": [
    "We will initially look at this data via a Boxplot. Boxplot is similar to a candle chart for anyone who has done any technical charting. What a Boxplot does is give us a Box showing where the majority of the data is while showing outliers as lines and dots. In this way, we can see where the majority of the data sits."
   ]
  },
  {
   "cell_type": "markdown",
   "id": "18dbad21",
   "metadata": {},
   "source": [
    "The main Box in a Boxplot shows all data from the Q1 or 25th percentile to the Q3 or 75th percentile. Using a Boxplot we can see how closely grouped the data or in this case the starting odds are. The lines and dots above and below these levels will show how spread out the rest of the data is. With this technique, we will be able to get a good picture of where the starting odds are in relation to each outcome and thus an idea of the accuracy of the odds."
   ]
  },
  {
   "cell_type": "markdown",
   "id": "ad7e8f4f",
   "metadata": {},
   "source": [
    "We will look at 3 Boxplots - one for each of the 3 possible outcomes. To do this we will split the odds dataset we just created into 3."
   ]
  },
  {
   "cell_type": "code",
   "execution_count": 11,
   "id": "bbed92f5",
   "metadata": {},
   "outputs": [],
   "source": [
    "\n",
    "#create a table with a subset of the data for Home win, Away win and Draw\n",
    "footdata_odds_h = footdata_odds.loc[footdata_odds['FTR'] == \"H\"]\n",
    "footdata_odds_a = footdata_odds.loc[footdata_odds['FTR'] == \"A\"]\n",
    "footdata_odds_d = footdata_odds.loc[footdata_odds['FTR'] == \"D\"]"
   ]
  },
  {
   "cell_type": "code",
   "execution_count": 12,
   "id": "0a2004ee",
   "metadata": {},
   "outputs": [
    {
     "data": {
      "text/plain": [
       "<AxesSubplot:title={'center':'Starting odds for home wins'}>"
      ]
     },
     "execution_count": 12,
     "metadata": {},
     "output_type": "execute_result"
    },
    {
     "data": {
      "image/png": "[encoded data removed]",
      "text/plain": [
       "<Figure size 864x1080 with 1 Axes>"
      ]
     },
     "metadata": {
      "needs_background": "light"
     },
     "output_type": "display_data"
    }
   ],
   "source": [
    "\n",
    "\n",
    "#plot the boxplot for games that ended a home win. Nice and big, so we can get a good look at the data.\n",
    "footdata_odds_h.plot(kind='box', figsize=(12,15),title=('Starting odds for home wins'),grid='TRUE')\n"
   ]
  },
  {
   "cell_type": "markdown",
   "id": "92117b30",
   "metadata": {},
   "source": [
    "Now we know what a Boxplot looks like then let's have a more detailed explanation of what the elements are. Looking first at the box, the horizontal line in the middle represents the 50% point of the data numbers, the median. From the median line to the bottom of the box is 50% to 25% of data points, while the top part of the box is 50% to 75% of data points. The box, i.e. 25% to 75% of data points is known as the interquartile range. "
   ]
  },
  {
   "cell_type": "markdown",
   "id": "8d9be294",
   "metadata": {},
   "source": [
    "The lines emanating from the top and bottom of the boxes are known as whiskers and represent the top (75%+) and bottom (25%-) of the data points. The bar across the whiskers is set at (1.5 * Interquartile Range) and the dots above and below these are the Outliers. The Outliers will generally cover approx 0.7% of data values, i.e. 0.35% highest and lowest values in the range."
   ]
  },
  {
   "cell_type": "markdown",
   "id": "61666d6a",
   "metadata": {},
   "source": [
    "With the above in mind, how to interpret the Boxplot. The obvious feature is that for Home wins the vast majority of Home odds fall below those of the Away win and the Draw. This is the first area of further identification that we have identified. Before we do though, let's have a look at the same plots for Away wins and Draws as the outcome."
   ]
  },
  {
   "cell_type": "code",
   "execution_count": 13,
   "id": "dddab2a0",
   "metadata": {},
   "outputs": [
    {
     "data": {
      "text/plain": [
       "<AxesSubplot:title={'center':'Starting odds for away wins'}>"
      ]
     },
     "execution_count": 13,
     "metadata": {},
     "output_type": "execute_result"
    },
    {
     "data": {
      "image/png": "[encoded data removed]",
      "text/plain": [
       "<Figure size 864x1080 with 1 Axes>"
      ]
     },
     "metadata": {
      "needs_background": "light"
     },
     "output_type": "display_data"
    }
   ],
   "source": [
    "\n",
    "\n",
    "#let's plot the boxplot for games that ended as an away win. \n",
    "footdata_odds_a.plot(kind='box',figsize=(12,15),title=('Starting odds for away wins'),grid='TRUE')"
   ]
  },
  {
   "cell_type": "code",
   "execution_count": 14,
   "id": "cb69e4aa",
   "metadata": {},
   "outputs": [
    {
     "data": {
      "text/plain": [
       "<AxesSubplot:title={'center':'Starting odds for draws'}>"
      ]
     },
     "execution_count": 14,
     "metadata": {},
     "output_type": "execute_result"
    },
    {
     "data": {
      "image/png": "[encoded data removed]",
      "text/plain": [
       "<Figure size 864x1080 with 1 Axes>"
      ]
     },
     "metadata": {
      "needs_background": "light"
     },
     "output_type": "display_data"
    }
   ],
   "source": [
    "\n",
    "\n",
    "#let'In the Boxplots for Away wins and Draws the overlap of odds is much more pronounced than for the Home wins we looked at earlier. It would be fair to say at this stage that for Away wins and Draws odds alone would not be a sufficient distinguishing factor to develop any conclusions from. Another variable would be required to provide clearer results. That leaves us with the further analysis of the Home win odds in relation to Home win outcomes.s plot the boxplot for games that ended a home win. Nice and big, so we can see the outcome.\n",
    "footdata_odds_d.plot(kind='box',figsize=(12,15),title=('Starting odds for draws'),grid='TRUE')"
   ]
  },
  {
   "cell_type": "markdown",
   "id": "6fec9e08",
   "metadata": {},
   "source": [
    "In the Boxplots for Away wins and Draws the overlap of odds is much more pronounced than for the Home wins we looked at earlier. It would be fair to say at this stage that for Away wins and Draws odds alone would not be a sufficient distinguishing factor to develop any conclusions from. Another variable would be required to provide clearer results. That leaves us with the further analysis of the Home win odds in relation to Home win outcomes."
   ]
  },
  {
   "cell_type": "markdown",
   "id": "fb50ef8c",
   "metadata": {},
   "source": [
    "That will be our starting point for part 2 of this series on using starting odds for analysis of outcome. "
   ]
  }
 ],
 "metadata": {
  "kernelspec": {
   "display_name": "Python 3 (ipykernel)",
   "language": "python",
   "name": "python3"
  },
  "language_info": {
   "codemirror_mode": {
    "name": "ipython",
    "version": 3
   },
   "file_extension": ".py",
   "mimetype": "text/x-python",
   "name": "python",
   "nbconvert_exporter": "python",
   "pygments_lexer": "ipython3",
   "version": "3.8.8"
  }
 },
 "nbformat": 4,
 "nbformat_minor": 5
}

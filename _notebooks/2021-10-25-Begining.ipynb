{
 "cells": [
  {
   "cell_type": "markdown",
   "id": "829d71e5",
   "metadata": {},
   "source": [
    "# In the Begining"
   ]
  },
  {
   "cell_type": "markdown",
   "id": "dc5b4995",
   "metadata": {},
   "source": [
    "1 months ago I only knew that Python did actually exist but had never written a line of code for it. Similarly, whilst the prospect of understanding Data Science was something that I would find interesting the idea of actually doing anything with it seemed remote. Then I discovered an application I wanted to follow through for which Data Science seemed to be the ideal solution. And so began a journey that even in a short space of time has taken me so far. "
   ]
  },
  {
   "cell_type": "markdown",
   "id": "78e8dabc",
   "metadata": {},
   "source": [
    "There or a number of things that I have learnt very quickly.\n",
    "\n",
    "1. that the internet is awash with resources to support anyone wishing to learn about python and Data Science. So much so that sometimes it's difficult to know when to leave off and start being practical.\n",
    "2. I have been truly amazed at the number and quality of data sets that are freely available out there to be used either for real-world calculations or for testing to develop systems.\n",
    "3. that it really is not as difficult as you may think and even within a short space of time you can be producing meaningful results from the data you have access to.\n"
   ]
  },
  {
   "cell_type": "markdown",
   "id": "52abc3f8",
   "metadata": {},
   "source": [
    "So, as much as a journal for me rather than being a mechanism for passing on any wisdom a Blog seemed to be the ideal way to go. This blog is built using Jupyter notebooks that are turned into blog posts by by Fastpages via github. More about that later."
   ]
  },
  {
   "cell_type": "markdown",
   "id": "3e1caea2",
   "metadata": {},
   "source": [
    "I don't think any blog on the subject of Data Science especially one written in a Jupyter notebook would be complete without some kind of code and graphical representation."
   ]
  },
  {
   "cell_type": "code",
   "execution_count": 7,
   "id": "86931c72",
   "metadata": {},
   "outputs": [
    {
     "data": {
      "text/html": [
       "<div>\n",
       "<style scoped>\n",
       "    .dataframe tbody tr th:only-of-type {\n",
       "        vertical-align: middle;\n",
       "    }\n",
       "\n",
       "    .dataframe tbody tr th {\n",
       "        vertical-align: top;\n",
       "    }\n",
       "\n",
       "    .dataframe thead th {\n",
       "        text-align: right;\n",
       "    }\n",
       "</style>\n",
       "<table border=\"1\" class=\"dataframe\">\n",
       "  <thead>\n",
       "    <tr style=\"text-align: right;\">\n",
       "      <th></th>\n",
       "      <th>sepal length (cm)</th>\n",
       "      <th>sepal width (cm)</th>\n",
       "      <th>petal length (cm)</th>\n",
       "      <th>petal width (cm)</th>\n",
       "    </tr>\n",
       "  </thead>\n",
       "  <tbody>\n",
       "    <tr>\n",
       "      <th>0</th>\n",
       "      <td>5.1</td>\n",
       "      <td>3.5</td>\n",
       "      <td>1.4</td>\n",
       "      <td>0.2</td>\n",
       "    </tr>\n",
       "    <tr>\n",
       "      <th>1</th>\n",
       "      <td>4.9</td>\n",
       "      <td>3.0</td>\n",
       "      <td>1.4</td>\n",
       "      <td>0.2</td>\n",
       "    </tr>\n",
       "    <tr>\n",
       "      <th>2</th>\n",
       "      <td>4.7</td>\n",
       "      <td>3.2</td>\n",
       "      <td>1.3</td>\n",
       "      <td>0.2</td>\n",
       "    </tr>\n",
       "    <tr>\n",
       "      <th>3</th>\n",
       "      <td>4.6</td>\n",
       "      <td>3.1</td>\n",
       "      <td>1.5</td>\n",
       "      <td>0.2</td>\n",
       "    </tr>\n",
       "    <tr>\n",
       "      <th>4</th>\n",
       "      <td>5.0</td>\n",
       "      <td>3.6</td>\n",
       "      <td>1.4</td>\n",
       "      <td>0.2</td>\n",
       "    </tr>\n",
       "  </tbody>\n",
       "</table>\n",
       "</div>"
      ],
      "text/plain": [
       "   sepal length (cm)  sepal width (cm)  petal length (cm)  petal width (cm)\n",
       "0                5.1               3.5                1.4               0.2\n",
       "1                4.9               3.0                1.4               0.2\n",
       "2                4.7               3.2                1.3               0.2\n",
       "3                4.6               3.1                1.5               0.2\n",
       "4                5.0               3.6                1.4               0.2"
      ]
     },
     "execution_count": 7,
     "metadata": {},
     "output_type": "execute_result"
    }
   ],
   "source": [
    "#lets start by loading a dataset\n",
    "#here we will load the famous Iris dataset after loading modules\n",
    "import matplotlib.pyplot as plt\n",
    "import pandas as pd\n",
    "import numpy as np\n",
    "from sklearn import datasets\n",
    "\n",
    "\n",
    "#load the iris dataset\n",
    "iris = datasets.load_iris()\n",
    "df = pd.DataFrame(iris.data, columns=iris.feature_names)\n",
    "\n",
    "#lets have a quick check on the data\n",
    "df.head()\n"
   ]
  },
  {
   "cell_type": "code",
   "execution_count": 10,
   "id": "6eda34d3",
   "metadata": {
    "scrolled": false
   },
   "outputs": [
    {
     "data": {
      "image/png": "[encoded data removed]",
      "text/plain": [
       "<Figure size 720x720 with 1 Axes>"
      ]
     },
     "metadata": {
      "needs_background": "light"
     },
     "output_type": "display_data"
    }
   ],
   "source": [
    "#lets plot the relationship between Sepal length and width\n",
    "x = df['sepal length (cm)']\n",
    "y = df['sepal width (cm)']\n",
    "\n",
    "plt.figure(figsize=(10, 10))\n",
    "plt.scatter(x, y, marker='o');"
   ]
  },
  {
   "cell_type": "markdown",
   "id": "aa660594",
   "metadata": {},
   "source": [
    "So, a very simple start but I've learnt a lot more on the last month. This is where I started out and I must admit I'm beginning to enjoy the journey immensely. At the moment I really still don't know what I don't know but I'm enjoying finding out what I don't know and then filling the gaps.\n"
   ]
  }
 ],
 "metadata": {
  "kernelspec": {
   "display_name": "Python 3 (ipykernel)",
   "language": "python",
   "name": "python3"
  },
  "language_info": {
   "codemirror_mode": {
    "name": "ipython",
    "version": 3
   },
   "file_extension": ".py",
   "mimetype": "text/x-python",
   "name": "python",
   "nbconvert_exporter": "python",
   "pygments_lexer": "ipython3",
   "version": "3.8.8"
  }
 },
 "nbformat": 4,
 "nbformat_minor": 5
}

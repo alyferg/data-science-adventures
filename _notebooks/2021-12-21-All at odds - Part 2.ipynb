{
 "cells": [
  {
   "cell_type": "markdown",
   "id": "491ada2d",
   "metadata": {},
   "source": [
    "# All at odds - Part 2 "
   ]
  },
  {
   "cell_type": "markdown",
   "id": "e79652a1",
   "metadata": {},
   "source": [
    "In the last post, we analysed the starting odds for games that ended as Home wins, Away wins, and Draws. We noticed something in the charts that required further investigation. When we looked at the starting odds for games that ended as a Home win the starting odds for the game, in the vast majority of cases, had the Home win odds shorter (lower) than Away win and Draw odds. In other words, it looked as if the market was very good at predicting Home wins. Similar analysis of Away wins and Draws did not yield matching results. Now, we need to investigate that finding further."
   ]
  },
  {
   "cell_type": "markdown",
   "id": "3f66d5f1",
   "metadata": {},
   "source": [
    "Let's have a quick recap of the findings from the last time, so we can reference it here. Without explaining in detail, here is the code we used to produce the Boxplot for Home wins. For a detailed explanation then you can reference Part 1 of this series."
   ]
  },
  {
   "cell_type": "code",
   "execution_count": 88,
   "id": "bf6afba1",
   "metadata": {},
   "outputs": [
    {
     "data": {
      "text/plain": [
       "<AxesSubplot:title={'center':'Starting odds for home wins'}>"
      ]
     },
     "execution_count": 88,
     "metadata": {},
     "output_type": "execute_result"
    },
    {
     "data": {
      "image/png": "[encoded data removed]",
      "text/plain": [
       "<Figure size 864x1080 with 1 Axes>"
      ]
     },
     "metadata": {
      "needs_background": "light"
     },
     "output_type": "display_data"
    }
   ],
   "source": [
    "\n",
    "# from Part 1 of this series\n",
    "# load dependencies and data\n",
    "import pandas as pd\n",
    "import numpy as np\n",
    "import glob\n",
    "import matplotlib.pyplot as plt\n",
    "import seaborn as sns\n",
    "from pandas.plotting import scatter_matrix\n",
    "\n",
    "#load all csv files and append to a single dataframe\n",
    "path = '../../../GitHub/England-EPL' \n",
    "all_files = glob.glob(path + \"/*.csv\")\n",
    "\n",
    "li = []\n",
    "\n",
    "for filename in all_files:\n",
    "    df = pd.read_csv(filename, index_col=None, header=0)\n",
    "    li.append(df)\n",
    "\n",
    "footdata = pd.concat(li, axis=0, ignore_index=True)\n",
    "\n",
    "footdata.rename(columns={'B365H': 'Home odds',\n",
    "                            'B365A': 'Away odds',\n",
    "                              'B365D': 'Draw odds'},\n",
    "                     inplace=True, errors='raise')\n",
    "\n",
    "# to make the dataframe more manageable and readable let's select only the columns we want to analyse\n",
    "\n",
    "footdata_odds = footdata[['FTR','Home odds','Away odds','Draw odds']]\n",
    "\n",
    "#create a table with a subset of the data for Home win, Away win and Draw\n",
    "footdata_odds_h = footdata_odds.loc[footdata_odds['FTR'] == \"H\"]\n",
    "footdata_odds_a = footdata_odds.loc[footdata_odds['FTR'] == \"A\"]\n",
    "footdata_odds_d = footdata_odds.loc[footdata_odds['FTR'] == \"D\"]\n",
    "#plot the boxplot for games that ended a home win. Nice and big, so we can get a good look at the data.\n",
    "footdata_odds_h.plot(kind='box', figsize=(12,15),title=('Starting odds for home wins'),grid='TRUE')\n"
   ]
  },
  {
   "cell_type": "markdown",
   "id": "90d8de1f",
   "metadata": {},
   "source": [
    "The vast majority of games show that the starting odds of the Home win are less than the starting odds for Away win and Draw. As a general rule, the odds for the Draw tend to be higher than at least one, if not both of the other odds. More about this later."
   ]
  },
  {
   "cell_type": "markdown",
   "id": "a08e56e1",
   "metadata": {},
   "source": [
    "We need to add a word of caution at this point. What we are seeing is the starting odds for matches that ended as a Home win. Of course, at the start of the game, we don't know the outcome. So the question that we need to answer is \"what is the probability of a Home win when the Home win odds are less than Away odds or Draw odds\""
   ]
  },
  {
   "cell_type": "markdown",
   "id": "adef3674",
   "metadata": {},
   "source": [
    "The ideal tool for answering the question \"What is the probability of X given Y\" is Bayes Theorem. That is exactly what Bayes does and it will help us here to very easily decide if there is a direct link between the outcome given the odds at the start. I also have to acknowledge the wonderful work of reference Think Bayes by Allen B. Downey was in helping me to understand the concept and answer this question. Anyone who has read the book may see some familiar code used here. "
   ]
  },
  {
   "cell_type": "markdown",
   "id": "18140339",
   "metadata": {},
   "source": [
    "We have already loaded the data we are to use, let's have a quick look at the main table. Then we will drop data columns with the exception of the result and starting odds columns."
   ]
  },
  {
   "cell_type": "code",
   "execution_count": 89,
   "id": "dae27227",
   "metadata": {},
   "outputs": [
    {
     "data": {
      "text/html": [
       "<div>\n",
       "<style scoped>\n",
       "    .dataframe tbody tr th:only-of-type {\n",
       "        vertical-align: middle;\n",
       "    }\n",
       "\n",
       "    .dataframe tbody tr th {\n",
       "        vertical-align: top;\n",
       "    }\n",
       "\n",
       "    .dataframe thead th {\n",
       "        text-align: right;\n",
       "    }\n",
       "</style>\n",
       "<table border=\"1\" class=\"dataframe\">\n",
       "  <thead>\n",
       "    <tr style=\"text-align: right;\">\n",
       "      <th></th>\n",
       "      <th>Div</th>\n",
       "      <th>Date</th>\n",
       "      <th>HomeTeam</th>\n",
       "      <th>AwayTeam</th>\n",
       "      <th>FTHG</th>\n",
       "      <th>FTAG</th>\n",
       "      <th>FTR</th>\n",
       "      <th>HTHG</th>\n",
       "      <th>HTAG</th>\n",
       "      <th>HTR</th>\n",
       "      <th>...</th>\n",
       "      <th>AvgC&lt;2.5</th>\n",
       "      <th>AHCh</th>\n",
       "      <th>B365CAHH</th>\n",
       "      <th>B365CAHA</th>\n",
       "      <th>PCAHH</th>\n",
       "      <th>PCAHA</th>\n",
       "      <th>MaxCAHH</th>\n",
       "      <th>MaxCAHA</th>\n",
       "      <th>AvgCAHH</th>\n",
       "      <th>AvgCAHA</th>\n",
       "    </tr>\n",
       "  </thead>\n",
       "  <tbody>\n",
       "    <tr>\n",
       "      <th>0</th>\n",
       "      <td>E0</td>\n",
       "      <td>14/08/10</td>\n",
       "      <td>Aston Villa</td>\n",
       "      <td>West Ham</td>\n",
       "      <td>3.0</td>\n",
       "      <td>0.0</td>\n",
       "      <td>H</td>\n",
       "      <td>2.0</td>\n",
       "      <td>0.0</td>\n",
       "      <td>H</td>\n",
       "      <td>...</td>\n",
       "      <td>NaN</td>\n",
       "      <td>NaN</td>\n",
       "      <td>NaN</td>\n",
       "      <td>NaN</td>\n",
       "      <td>NaN</td>\n",
       "      <td>NaN</td>\n",
       "      <td>NaN</td>\n",
       "      <td>NaN</td>\n",
       "      <td>NaN</td>\n",
       "      <td>NaN</td>\n",
       "    </tr>\n",
       "    <tr>\n",
       "      <th>1</th>\n",
       "      <td>E0</td>\n",
       "      <td>14/08/10</td>\n",
       "      <td>Blackburn</td>\n",
       "      <td>Everton</td>\n",
       "      <td>1.0</td>\n",
       "      <td>0.0</td>\n",
       "      <td>H</td>\n",
       "      <td>1.0</td>\n",
       "      <td>0.0</td>\n",
       "      <td>H</td>\n",
       "      <td>...</td>\n",
       "      <td>NaN</td>\n",
       "      <td>NaN</td>\n",
       "      <td>NaN</td>\n",
       "      <td>NaN</td>\n",
       "      <td>NaN</td>\n",
       "      <td>NaN</td>\n",
       "      <td>NaN</td>\n",
       "      <td>NaN</td>\n",
       "      <td>NaN</td>\n",
       "      <td>NaN</td>\n",
       "    </tr>\n",
       "    <tr>\n",
       "      <th>2</th>\n",
       "      <td>E0</td>\n",
       "      <td>14/08/10</td>\n",
       "      <td>Bolton</td>\n",
       "      <td>Fulham</td>\n",
       "      <td>0.0</td>\n",
       "      <td>0.0</td>\n",
       "      <td>D</td>\n",
       "      <td>0.0</td>\n",
       "      <td>0.0</td>\n",
       "      <td>D</td>\n",
       "      <td>...</td>\n",
       "      <td>NaN</td>\n",
       "      <td>NaN</td>\n",
       "      <td>NaN</td>\n",
       "      <td>NaN</td>\n",
       "      <td>NaN</td>\n",
       "      <td>NaN</td>\n",
       "      <td>NaN</td>\n",
       "      <td>NaN</td>\n",
       "      <td>NaN</td>\n",
       "      <td>NaN</td>\n",
       "    </tr>\n",
       "    <tr>\n",
       "      <th>3</th>\n",
       "      <td>E0</td>\n",
       "      <td>14/08/10</td>\n",
       "      <td>Chelsea</td>\n",
       "      <td>West Brom</td>\n",
       "      <td>6.0</td>\n",
       "      <td>0.0</td>\n",
       "      <td>H</td>\n",
       "      <td>2.0</td>\n",
       "      <td>0.0</td>\n",
       "      <td>H</td>\n",
       "      <td>...</td>\n",
       "      <td>NaN</td>\n",
       "      <td>NaN</td>\n",
       "      <td>NaN</td>\n",
       "      <td>NaN</td>\n",
       "      <td>NaN</td>\n",
       "      <td>NaN</td>\n",
       "      <td>NaN</td>\n",
       "      <td>NaN</td>\n",
       "      <td>NaN</td>\n",
       "      <td>NaN</td>\n",
       "    </tr>\n",
       "    <tr>\n",
       "      <th>4</th>\n",
       "      <td>E0</td>\n",
       "      <td>14/08/10</td>\n",
       "      <td>Sunderland</td>\n",
       "      <td>Birmingham</td>\n",
       "      <td>2.0</td>\n",
       "      <td>2.0</td>\n",
       "      <td>D</td>\n",
       "      <td>1.0</td>\n",
       "      <td>0.0</td>\n",
       "      <td>H</td>\n",
       "      <td>...</td>\n",
       "      <td>NaN</td>\n",
       "      <td>NaN</td>\n",
       "      <td>NaN</td>\n",
       "      <td>NaN</td>\n",
       "      <td>NaN</td>\n",
       "      <td>NaN</td>\n",
       "      <td>NaN</td>\n",
       "      <td>NaN</td>\n",
       "      <td>NaN</td>\n",
       "      <td>NaN</td>\n",
       "    </tr>\n",
       "    <tr>\n",
       "      <th>...</th>\n",
       "      <td>...</td>\n",
       "      <td>...</td>\n",
       "      <td>...</td>\n",
       "      <td>...</td>\n",
       "      <td>...</td>\n",
       "      <td>...</td>\n",
       "      <td>...</td>\n",
       "      <td>...</td>\n",
       "      <td>...</td>\n",
       "      <td>...</td>\n",
       "      <td>...</td>\n",
       "      <td>...</td>\n",
       "      <td>...</td>\n",
       "      <td>...</td>\n",
       "      <td>...</td>\n",
       "      <td>...</td>\n",
       "      <td>...</td>\n",
       "      <td>...</td>\n",
       "      <td>...</td>\n",
       "      <td>...</td>\n",
       "      <td>...</td>\n",
       "    </tr>\n",
       "    <tr>\n",
       "      <th>4418</th>\n",
       "      <td>E0</td>\n",
       "      <td>23/05/2021</td>\n",
       "      <td>Liverpool</td>\n",
       "      <td>Crystal Palace</td>\n",
       "      <td>2.0</td>\n",
       "      <td>0.0</td>\n",
       "      <td>H</td>\n",
       "      <td>1.0</td>\n",
       "      <td>0.0</td>\n",
       "      <td>H</td>\n",
       "      <td>...</td>\n",
       "      <td>3.49</td>\n",
       "      <td>-2.25</td>\n",
       "      <td>1.86</td>\n",
       "      <td>2.04</td>\n",
       "      <td>1.88</td>\n",
       "      <td>2.03</td>\n",
       "      <td>1.98</td>\n",
       "      <td>2.14</td>\n",
       "      <td>1.88</td>\n",
       "      <td>2.00</td>\n",
       "    </tr>\n",
       "    <tr>\n",
       "      <th>4419</th>\n",
       "      <td>E0</td>\n",
       "      <td>23/05/2021</td>\n",
       "      <td>Man City</td>\n",
       "      <td>Everton</td>\n",
       "      <td>5.0</td>\n",
       "      <td>0.0</td>\n",
       "      <td>H</td>\n",
       "      <td>2.0</td>\n",
       "      <td>0.0</td>\n",
       "      <td>H</td>\n",
       "      <td>...</td>\n",
       "      <td>2.77</td>\n",
       "      <td>-1.75</td>\n",
       "      <td>2.01</td>\n",
       "      <td>1.89</td>\n",
       "      <td>1.99</td>\n",
       "      <td>1.89</td>\n",
       "      <td>2.20</td>\n",
       "      <td>2.00</td>\n",
       "      <td>2.03</td>\n",
       "      <td>1.85</td>\n",
       "    </tr>\n",
       "    <tr>\n",
       "      <th>4420</th>\n",
       "      <td>E0</td>\n",
       "      <td>23/05/2021</td>\n",
       "      <td>Sheffield United</td>\n",
       "      <td>Burnley</td>\n",
       "      <td>1.0</td>\n",
       "      <td>0.0</td>\n",
       "      <td>H</td>\n",
       "      <td>1.0</td>\n",
       "      <td>0.0</td>\n",
       "      <td>H</td>\n",
       "      <td>...</td>\n",
       "      <td>2.05</td>\n",
       "      <td>0.00</td>\n",
       "      <td>2.04</td>\n",
       "      <td>1.86</td>\n",
       "      <td>2.05</td>\n",
       "      <td>1.86</td>\n",
       "      <td>2.17</td>\n",
       "      <td>1.90</td>\n",
       "      <td>2.03</td>\n",
       "      <td>1.84</td>\n",
       "    </tr>\n",
       "    <tr>\n",
       "      <th>4421</th>\n",
       "      <td>E0</td>\n",
       "      <td>23/05/2021</td>\n",
       "      <td>West Ham</td>\n",
       "      <td>Southampton</td>\n",
       "      <td>3.0</td>\n",
       "      <td>0.0</td>\n",
       "      <td>H</td>\n",
       "      <td>2.0</td>\n",
       "      <td>0.0</td>\n",
       "      <td>H</td>\n",
       "      <td>...</td>\n",
       "      <td>2.14</td>\n",
       "      <td>-0.75</td>\n",
       "      <td>2.00</td>\n",
       "      <td>1.90</td>\n",
       "      <td>2.02</td>\n",
       "      <td>1.91</td>\n",
       "      <td>2.06</td>\n",
       "      <td>2.01</td>\n",
       "      <td>1.99</td>\n",
       "      <td>1.89</td>\n",
       "    </tr>\n",
       "    <tr>\n",
       "      <th>4422</th>\n",
       "      <td>E0</td>\n",
       "      <td>23/05/2021</td>\n",
       "      <td>Wolves</td>\n",
       "      <td>Man United</td>\n",
       "      <td>1.0</td>\n",
       "      <td>2.0</td>\n",
       "      <td>A</td>\n",
       "      <td>1.0</td>\n",
       "      <td>2.0</td>\n",
       "      <td>A</td>\n",
       "      <td>...</td>\n",
       "      <td>1.62</td>\n",
       "      <td>-0.25</td>\n",
       "      <td>2.04</td>\n",
       "      <td>1.86</td>\n",
       "      <td>2.10</td>\n",
       "      <td>1.84</td>\n",
       "      <td>2.10</td>\n",
       "      <td>1.94</td>\n",
       "      <td>2.00</td>\n",
       "      <td>1.88</td>\n",
       "    </tr>\n",
       "  </tbody>\n",
       "</table>\n",
       "<p>4423 rows × 139 columns</p>\n",
       "</div>"
      ],
      "text/plain": [
       "     Div        Date          HomeTeam        AwayTeam  FTHG  FTAG FTR  HTHG  \\\n",
       "0     E0    14/08/10       Aston Villa        West Ham   3.0   0.0   H   2.0   \n",
       "1     E0    14/08/10         Blackburn         Everton   1.0   0.0   H   1.0   \n",
       "2     E0    14/08/10            Bolton          Fulham   0.0   0.0   D   0.0   \n",
       "3     E0    14/08/10           Chelsea       West Brom   6.0   0.0   H   2.0   \n",
       "4     E0    14/08/10        Sunderland      Birmingham   2.0   2.0   D   1.0   \n",
       "...   ..         ...               ...             ...   ...   ...  ..   ...   \n",
       "4418  E0  23/05/2021         Liverpool  Crystal Palace   2.0   0.0   H   1.0   \n",
       "4419  E0  23/05/2021          Man City         Everton   5.0   0.0   H   2.0   \n",
       "4420  E0  23/05/2021  Sheffield United         Burnley   1.0   0.0   H   1.0   \n",
       "4421  E0  23/05/2021          West Ham     Southampton   3.0   0.0   H   2.0   \n",
       "4422  E0  23/05/2021            Wolves      Man United   1.0   2.0   A   1.0   \n",
       "\n",
       "      HTAG HTR  ... AvgC<2.5  AHCh  B365CAHH  B365CAHA  PCAHH  PCAHA  MaxCAHH  \\\n",
       "0      0.0   H  ...      NaN   NaN       NaN       NaN    NaN    NaN      NaN   \n",
       "1      0.0   H  ...      NaN   NaN       NaN       NaN    NaN    NaN      NaN   \n",
       "2      0.0   D  ...      NaN   NaN       NaN       NaN    NaN    NaN      NaN   \n",
       "3      0.0   H  ...      NaN   NaN       NaN       NaN    NaN    NaN      NaN   \n",
       "4      0.0   H  ...      NaN   NaN       NaN       NaN    NaN    NaN      NaN   \n",
       "...    ...  ..  ...      ...   ...       ...       ...    ...    ...      ...   \n",
       "4418   0.0   H  ...     3.49 -2.25      1.86      2.04   1.88   2.03     1.98   \n",
       "4419   0.0   H  ...     2.77 -1.75      2.01      1.89   1.99   1.89     2.20   \n",
       "4420   0.0   H  ...     2.05  0.00      2.04      1.86   2.05   1.86     2.17   \n",
       "4421   0.0   H  ...     2.14 -0.75      2.00      1.90   2.02   1.91     2.06   \n",
       "4422   2.0   A  ...     1.62 -0.25      2.04      1.86   2.10   1.84     2.10   \n",
       "\n",
       "      MaxCAHA  AvgCAHH  AvgCAHA  \n",
       "0         NaN      NaN      NaN  \n",
       "1         NaN      NaN      NaN  \n",
       "2         NaN      NaN      NaN  \n",
       "3         NaN      NaN      NaN  \n",
       "4         NaN      NaN      NaN  \n",
       "...       ...      ...      ...  \n",
       "4418     2.14     1.88     2.00  \n",
       "4419     2.00     2.03     1.85  \n",
       "4420     1.90     2.03     1.84  \n",
       "4421     2.01     1.99     1.89  \n",
       "4422     1.94     2.00     1.88  \n",
       "\n",
       "[4423 rows x 139 columns]"
      ]
     },
     "execution_count": 89,
     "metadata": {},
     "output_type": "execute_result"
    }
   ],
   "source": [
    "footdata"
   ]
  },
  {
   "cell_type": "code",
   "execution_count": 95,
   "id": "74e4d7cf",
   "metadata": {},
   "outputs": [
    {
     "data": {
      "text/html": [
       "<div>\n",
       "<style scoped>\n",
       "    .dataframe tbody tr th:only-of-type {\n",
       "        vertical-align: middle;\n",
       "    }\n",
       "\n",
       "    .dataframe tbody tr th {\n",
       "        vertical-align: top;\n",
       "    }\n",
       "\n",
       "    .dataframe thead th {\n",
       "        text-align: right;\n",
       "    }\n",
       "</style>\n",
       "<table border=\"1\" class=\"dataframe\">\n",
       "  <thead>\n",
       "    <tr style=\"text-align: right;\">\n",
       "      <th></th>\n",
       "      <th>FTR</th>\n",
       "      <th>Home odds</th>\n",
       "      <th>Away odds</th>\n",
       "      <th>Draw odds</th>\n",
       "    </tr>\n",
       "  </thead>\n",
       "  <tbody>\n",
       "    <tr>\n",
       "      <th>0</th>\n",
       "      <td>H</td>\n",
       "      <td>2.00</td>\n",
       "      <td>4.0</td>\n",
       "      <td>3.30</td>\n",
       "    </tr>\n",
       "    <tr>\n",
       "      <th>1</th>\n",
       "      <td>H</td>\n",
       "      <td>2.88</td>\n",
       "      <td>2.5</td>\n",
       "      <td>3.25</td>\n",
       "    </tr>\n",
       "    <tr>\n",
       "      <th>2</th>\n",
       "      <td>D</td>\n",
       "      <td>2.20</td>\n",
       "      <td>3.4</td>\n",
       "      <td>3.30</td>\n",
       "    </tr>\n",
       "    <tr>\n",
       "      <th>3</th>\n",
       "      <td>H</td>\n",
       "      <td>1.17</td>\n",
       "      <td>17.0</td>\n",
       "      <td>7.00</td>\n",
       "    </tr>\n",
       "    <tr>\n",
       "      <th>4</th>\n",
       "      <td>D</td>\n",
       "      <td>2.10</td>\n",
       "      <td>3.6</td>\n",
       "      <td>3.30</td>\n",
       "    </tr>\n",
       "    <tr>\n",
       "      <th>...</th>\n",
       "      <td>...</td>\n",
       "      <td>...</td>\n",
       "      <td>...</td>\n",
       "      <td>...</td>\n",
       "    </tr>\n",
       "    <tr>\n",
       "      <th>4418</th>\n",
       "      <td>H</td>\n",
       "      <td>1.14</td>\n",
       "      <td>15.0</td>\n",
       "      <td>8.50</td>\n",
       "    </tr>\n",
       "    <tr>\n",
       "      <th>4419</th>\n",
       "      <td>H</td>\n",
       "      <td>1.44</td>\n",
       "      <td>6.5</td>\n",
       "      <td>5.00</td>\n",
       "    </tr>\n",
       "    <tr>\n",
       "      <th>4420</th>\n",
       "      <td>H</td>\n",
       "      <td>2.80</td>\n",
       "      <td>2.4</td>\n",
       "      <td>3.60</td>\n",
       "    </tr>\n",
       "    <tr>\n",
       "      <th>4421</th>\n",
       "      <td>H</td>\n",
       "      <td>1.65</td>\n",
       "      <td>5.0</td>\n",
       "      <td>4.00</td>\n",
       "    </tr>\n",
       "    <tr>\n",
       "      <th>4422</th>\n",
       "      <td>A</td>\n",
       "      <td>2.50</td>\n",
       "      <td>2.7</td>\n",
       "      <td>3.50</td>\n",
       "    </tr>\n",
       "  </tbody>\n",
       "</table>\n",
       "<p>4423 rows × 4 columns</p>\n",
       "</div>"
      ],
      "text/plain": [
       "     FTR  Home odds  Away odds  Draw odds\n",
       "0      H       2.00        4.0       3.30\n",
       "1      H       2.88        2.5       3.25\n",
       "2      D       2.20        3.4       3.30\n",
       "3      H       1.17       17.0       7.00\n",
       "4      D       2.10        3.6       3.30\n",
       "...   ..        ...        ...        ...\n",
       "4418   H       1.14       15.0       8.50\n",
       "4419   H       1.44        6.5       5.00\n",
       "4420   H       2.80        2.4       3.60\n",
       "4421   H       1.65        5.0       4.00\n",
       "4422   A       2.50        2.7       3.50\n",
       "\n",
       "[4423 rows x 4 columns]"
      ]
     },
     "execution_count": 95,
     "metadata": {},
     "output_type": "execute_result"
    }
   ],
   "source": [
    "\n",
    "\n",
    "# to make the dataframe more manageable and readable let's select only the columns we want to analyse\n",
    "\n",
    "footdata_odds = footdata[['FTR','Home odds','Away odds','Draw odds']]\n",
    "\n",
    "footdata_odds"
   ]
  },
  {
   "cell_type": "markdown",
   "id": "710cff55",
   "metadata": {},
   "source": [
    "The following code creates 2 functions to call as we prepare to analyse the probabilities. The first allows us to calculate the probability of a particular outcome occurring while the second gives us a conditional probability. It is the latter we wish to know but to get there we need to extract the right data."
   ]
  },
  {
   "cell_type": "code",
   "execution_count": 74,
   "id": "44205a2c",
   "metadata": {},
   "outputs": [],
   "source": [
    "\n",
    "\n",
    "def prob(A):\n",
    "    \"\"\"Computes the probability of a proposition, A.\"\"\"    \n",
    "    return A.mean()"
   ]
  },
  {
   "cell_type": "code",
   "execution_count": 75,
   "id": "34359be8",
   "metadata": {},
   "outputs": [],
   "source": [
    "\n",
    "\n",
    "def conditional(proposition, given):\n",
    "    \"\"\"Probability of A conditioned on given.\"\"\"\n",
    "    return prob(proposition[given])"
   ]
  },
  {
   "cell_type": "markdown",
   "id": "926170c8",
   "metadata": {},
   "source": [
    "Next, we prepare to make our comparisons. We will create three tables 'home', 'away', and 'draw'. Each of these will contain 4422 rows and a Boolean representing Home wins, Away wins, and Draws. Using Pandas to create these tables, each stores the Boolean as 0 for FALSE and 1 for TRUE. This then enables us to 'sum' the total True values in each. We can also use the 'mean' function to calculate the number of TRUE entries as a proportion of the total i.e. the probability of a particular outcome is the series."
   ]
  },
  {
   "cell_type": "code",
   "execution_count": 76,
   "id": "475e261f",
   "metadata": {},
   "outputs": [
    {
     "data": {
      "text/plain": [
       "0     True\n",
       "1     True\n",
       "2    False\n",
       "3     True\n",
       "4    False\n",
       "Name: FTR, dtype: bool"
      ]
     },
     "execution_count": 76,
     "metadata": {},
     "output_type": "execute_result"
    }
   ],
   "source": [
    "\n",
    "home = (footdata['FTR'] == 'H')\n",
    "home.head()"
   ]
  },
  {
   "cell_type": "code",
   "execution_count": 77,
   "id": "eb7dbf28",
   "metadata": {},
   "outputs": [
    {
     "data": {
      "text/plain": [
       "0    False\n",
       "1    False\n",
       "2    False\n",
       "3    False\n",
       "4    False\n",
       "Name: FTR, dtype: bool"
      ]
     },
     "execution_count": 77,
     "metadata": {},
     "output_type": "execute_result"
    }
   ],
   "source": [
    "\n",
    "away = (footdata['FTR'] == 'A')\n",
    "away.head()"
   ]
  },
  {
   "cell_type": "code",
   "execution_count": 78,
   "id": "e2148afc",
   "metadata": {},
   "outputs": [
    {
     "data": {
      "text/plain": [
       "0    False\n",
       "1    False\n",
       "2     True\n",
       "3    False\n",
       "4     True\n",
       "Name: FTR, dtype: bool"
      ]
     },
     "execution_count": 78,
     "metadata": {},
     "output_type": "execute_result"
    }
   ],
   "source": [
    "\n",
    "draw = (footdata['FTR'] == 'D')\n",
    "draw.head()"
   ]
  },
  {
   "cell_type": "code",
   "execution_count": 79,
   "id": "bb2c8f44",
   "metadata": {},
   "outputs": [
    {
     "data": {
      "text/plain": [
       "(1967, 1359, 1096)"
      ]
     },
     "execution_count": 79,
     "metadata": {},
     "output_type": "execute_result"
    }
   ],
   "source": [
    "\n",
    "home.sum(), away.sum() ,draw.sum()"
   ]
  },
  {
   "cell_type": "code",
   "execution_count": 80,
   "id": "72e16ce2",
   "metadata": {},
   "outputs": [
    {
     "data": {
      "text/plain": [
       "(0.44472077775265656, 0.3072575175220439, 0.24779561383676238)"
      ]
     },
     "execution_count": 80,
     "metadata": {},
     "output_type": "execute_result"
    }
   ],
   "source": [
    "\n",
    "home.mean(), away.mean() , draw.mean()"
   ]
  },
  {
   "cell_type": "markdown",
   "id": "47dd1a58",
   "metadata": {},
   "source": [
    "Now if we run these tables through our function 'prob' created earlier, then we can see the probability of the outcome. These are probabilities, i.e. between 0 and 1. So for Home wins 0.44472077775265656 equates to approx 44.5% of all matches ending as a Home win. Similarly, 30.7% Away wins and 24.8% draws. We know from these figures compared to the 'sum' and 'mean' functions above that the 'prob' function works."
   ]
  },
  {
   "cell_type": "code",
   "execution_count": 81,
   "id": "d9f80082",
   "metadata": {},
   "outputs": [
    {
     "data": {
      "text/plain": [
       "(0.44472077775265656, 0.3072575175220439, 0.24779561383676238)"
      ]
     },
     "execution_count": 81,
     "metadata": {},
     "output_type": "execute_result"
    }
   ],
   "source": [
    "\n",
    "prob(home), prob(away), prob(draw)"
   ]
  },
  {
   "cell_type": "markdown",
   "id": "f60a7cc4",
   "metadata": {},
   "source": [
    "Similarly, we now create tables for odds where Home odds are lower than Away odds or vice versa. Here, we are ignoring the odds for the Draw. Simply put the odds for the Draw are never lower than those for a result either at home or away. Creating a table for situations where Draw odds were lower would only result in an empty table. This reflects the difficulty in predicting draws in football."
   ]
  },
  {
   "cell_type": "code",
   "execution_count": 63,
   "id": "f54e616b",
   "metadata": {},
   "outputs": [
    {
     "data": {
      "text/plain": [
       "3049"
      ]
     },
     "execution_count": 63,
     "metadata": {},
     "output_type": "execute_result"
    }
   ],
   "source": [
    "\n",
    "lower_odds = (footdata['Home odds'] < (footdata['Away odds'])) & (footdata['Home odds'] < (footdata['Draw odds']))\n",
    "lower_odds.sum()"
   ]
  },
  {
   "cell_type": "code",
   "execution_count": 91,
   "id": "956aaf70",
   "metadata": {},
   "outputs": [
    {
     "data": {
      "text/plain": [
       "1347"
      ]
     },
     "execution_count": 91,
     "metadata": {},
     "output_type": "execute_result"
    }
   ],
   "source": [
    "\n",
    "higher_odds = (footdata['Away odds'] < (footdata['Home odds'])) & (footdata['Away odds'] < (footdata['Draw odds']))\n",
    "higher_odds.sum()"
   ]
  },
  {
   "cell_type": "code",
   "execution_count": 83,
   "id": "f4ebb729",
   "metadata": {},
   "outputs": [
    {
     "data": {
      "text/plain": [
       "(0.6893511191498982, 0.30454442685959754)"
      ]
     },
     "execution_count": 83,
     "metadata": {},
     "output_type": "execute_result"
    }
   ],
   "source": [
    "\n",
    "prob(lower_odds), prob(higher_odds)"
   ]
  },
  {
   "cell_type": "markdown",
   "id": "28ef7987",
   "metadata": {},
   "source": [
    "At last, we are all ready to go. We see from the above that around 70% of the time Home win odds are lower than away win odds, which you would expect to be the case. Exciting, at last, we can find the answer to our question \"what is the probability of a Home win when the Home win odds are less than Away odds or Draw odds\""
   ]
  },
  {
   "cell_type": "code",
   "execution_count": 99,
   "id": "1fd126b2",
   "metadata": {},
   "outputs": [
    {
     "data": {
      "text/plain": [
       "0.5388652017054772"
      ]
     },
     "execution_count": 99,
     "metadata": {},
     "output_type": "execute_result"
    }
   ],
   "source": [
    "\n",
    "conditional(home, given=lower_odds) "
   ]
  },
  {
   "cell_type": "markdown",
   "id": "7c9c8fd3",
   "metadata": {},
   "source": [
    "I have to be honest and say that was rather an anticlimax. Where the Home win odds are below the odds for an Away win, the outcome is a home win only 53.8% of the time. This seems really low given the chart we saw at the start. It looked like odds for Home wins were always below the others, so what happened?"
   ]
  },
  {
   "cell_type": "markdown",
   "id": "490532a6",
   "metadata": {},
   "source": [
    "The outcome can be explained with the following two main reasons.\n",
    "\n",
    "1. The impact of the Draw. We know that 24.7% of games end as a draw, but that the odds of a Draw are always above those of Home and Away wins. Therefore, the best outcome for Home wins where Home win odds are lower is around 75% of games as around 25% will end up as Draws.\n",
    "\n",
    "2. The other 21% of games? Well, that's just the nature of football. Players, teams, referees have an off day. Balls hitting the woodwork and not going into the goal, deflections of shots past a goalkeeper, etc etc etc. That's the randomness of football.\n",
    "\n",
    "If we were to disregard the draw, then we would be 78% accurate, but the draw is part of the game.\n",
    "\n",
    "Let's just check the figures for matches where the outcome is a Draw and see how that compares to the starting odds."
   ]
  },
  {
   "cell_type": "code",
   "execution_count": 100,
   "id": "5ca19dc9",
   "metadata": {},
   "outputs": [
    {
     "data": {
      "text/plain": [
       "(0.2457312546399406, 0.24762217120367333)"
      ]
     },
     "execution_count": 100,
     "metadata": {},
     "output_type": "execute_result"
    }
   ],
   "source": [
    "\n",
    "conditional(draw, higher_odds), conditional(draw, lower_odds)"
   ]
  },
  {
   "cell_type": "markdown",
   "id": "dc7bddf1",
   "metadata": {},
   "source": [
    "That's why football is such an exciting game. Whether odds for a Home win or an Away win are higher, the draw ratio is always around 24.6/24.7% almost the same. These figures are based on a sample size of 4423 games. As that number increases the figures would tend to merge."
   ]
  },
  {
   "cell_type": "markdown",
   "id": "98866c4f",
   "metadata": {},
   "source": [
    "Of course in our analysis, we have treated every team the same. We have not looked at strong teams against weak teams. We wanted to see the outcomes based purely on the starting odds. Nor have we considered the relative strength of the odds. That's for the future when we consider more than one variable at a time.\n",
    "\n",
    "For the sake of completeness let's check the various outcomes where the Home odds were lower than the away odds."
   ]
  },
  {
   "cell_type": "code",
   "execution_count": 101,
   "id": "095faf80",
   "metadata": {},
   "outputs": [
    {
     "data": {
      "text/plain": [
       "(0.5388652017054772, 0.21351262709084945, 0.24762217120367333)"
      ]
     },
     "execution_count": 101,
     "metadata": {},
     "output_type": "execute_result"
    }
   ],
   "source": [
    "\n",
    "conditional(home, given=lower_odds) , conditional(away, given=lower_odds) , conditional(draw, given=lower_odds) "
   ]
  },
  {
   "cell_type": "markdown",
   "id": "db770308",
   "metadata": {},
   "source": [
    "There we can see it. The 21.3% of games end as Away wins where Home odds were lower while 24.7% end as draws. What about the situation where the Away odds are higher, i.e. the market expects an Away win.\n",
    "\n",
    "Similarly, when Away odds are higher."
   ]
  },
  {
   "cell_type": "code",
   "execution_count": 102,
   "id": "f9135488",
   "metadata": {},
   "outputs": [
    {
     "data": {
      "text/plain": [
       "(0.23088344469190794, 0.5233853006681515, 0.2457312546399406)"
      ]
     },
     "execution_count": 102,
     "metadata": {},
     "output_type": "execute_result"
    }
   ],
   "source": [
    "\n",
    "conditional(home, given=higher_odds) , conditional(away, given=higher_odds), conditional(draw, given=higher_odds)"
   ]
  },
  {
   "cell_type": "markdown",
   "id": "25f3f4cf",
   "metadata": {},
   "source": [
    "Amazing, almost identical figures. 52.3% accurate with 24.6% draws. That leaves 23% as the random element, being  very close to the figures we found in the case of Home win odds being lower. Again, as the sample size increases towards infinity, these two figures will tend to merge."
   ]
  },
  {
   "cell_type": "markdown",
   "id": "a038f356",
   "metadata": {},
   "source": [
    "Out of curiosity what happens if we turn the probability prediction on its head. Given a Home win, what is the probability of getting Home odds lower?"
   ]
  },
  {
   "cell_type": "code",
   "execution_count": 86,
   "id": "ab102991",
   "metadata": {},
   "outputs": [
    {
     "data": {
      "text/plain": [
       "(0.835282155566853, 0.47902869757174393, 0.6888686131386861)"
      ]
     },
     "execution_count": 86,
     "metadata": {},
     "output_type": "execute_result"
    }
   ],
   "source": [
    "\n",
    "conditional(lower_odds, given=home), conditional(lower_odds, given=away), conditional(lower_odds, given=draw)"
   ]
  },
  {
   "cell_type": "markdown",
   "id": "1f0dfcda",
   "metadata": {},
   "source": [
    "That would have been ideal. Where we have a home win nearly 84% of games have lower starting odds for the Home win. Regrettably, we don't know the outcome before the game starts. Shame. This reflects the outcome that we saw in the Boxplot in the introduction above. It looked useful but has proven not to be so. Finally, for the sake of being complete let's compare the lower Away odds for various outcomes."
   ]
  },
  {
   "cell_type": "code",
   "execution_count": 87,
   "id": "1aa69f9c",
   "metadata": {},
   "outputs": [
    {
     "data": {
      "text/plain": [
       "(0.15810879511947126, 0.5187637969094923, 0.30200729927007297)"
      ]
     },
     "execution_count": 87,
     "metadata": {},
     "output_type": "execute_result"
    }
   ],
   "source": [
    "\n",
    "conditional(higher_odds, given=home), conditional(higher_odds, given=away), conditional(higher_odds, given=draw)"
   ]
  },
  {
   "cell_type": "markdown",
   "id": "ad190b0a",
   "metadata": {},
   "source": [
    "## Conclusion"
   ]
  },
  {
   "cell_type": "markdown",
   "id": "a128a6c9",
   "metadata": {},
   "source": [
    "We asked the question \"what is the probability of a Home win when the Home win odds are less than Away odds or Draw odds\". We were able to calculate the answer, though it did not help us much. The 53% probability of a Home win when Home win odds are the lowest is not enough to be the foundation for a winning strategy on its own. We would need further variables to improve the accuracy. Still, remember that figure as it may prove useful in the future."
   ]
  },
  {
   "cell_type": "markdown",
   "id": "fb318c8f",
   "metadata": {},
   "source": [
    "Home wins have starting Home odds lower than Away odds 83% of the time. This is really useful information. However, as we don't know the outcome at the start, it does not help us at all. "
   ]
  },
  {
   "cell_type": "markdown",
   "id": "d4e0049e",
   "metadata": {},
   "source": [
    "In a way, this is a cautionary tale in the world of Data Science. There are often different ways to look at things. We need to check, double-check, and sanity check to prevent ourselves from coming to false or unhelpful conclusions. If you want to learn more about Bayes, then I suggest having a look at Allen Downeys book Think Bayes, which is available on Github. There are a few interesting exercises there to help give a different perspective and show how easy it is to make assumptions and/or come to the wrong conclusion."
   ]
  },
  {
   "cell_type": "markdown",
   "id": "74b014b3",
   "metadata": {},
   "source": [
    "Still, I have enjoyed playing with Bayes. So I think, that for Part 3 of this series we will have another Bayes study, this time on a different area."
   ]
  }
 ],
 "metadata": {
  "kernelspec": {
   "display_name": "Python 3 (ipykernel)",
   "language": "python",
   "name": "python3"
  },
  "language_info": {
   "codemirror_mode": {
    "name": "ipython",
    "version": 3
   },
   "file_extension": ".py",
   "mimetype": "text/x-python",
   "name": "python",
   "nbconvert_exporter": "python",
   "pygments_lexer": "ipython3",
   "version": "3.8.8"
  }
 },
 "nbformat": 4,
 "nbformat_minor": 5
}
